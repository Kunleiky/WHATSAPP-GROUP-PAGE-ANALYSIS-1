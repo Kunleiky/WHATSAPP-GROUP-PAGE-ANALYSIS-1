{
 "cells": [
  {
   "cell_type": "markdown",
   "metadata": {},
   "source": [
    "# IN THIS PROJECT, I ANALYSED OUR ACCOUNTING ALUMNI WHATSAPP GROUP PAGE TO SEE INTERESTING INSIGHTS"
   ]
  },
  {
   "cell_type": "code",
   "execution_count": 25,
   "metadata": {
    "ExecuteTime": {
     "end_time": "2021-01-02T07:48:07.344041Z",
     "start_time": "2021-01-02T07:48:07.281532Z"
    }
   },
   "outputs": [],
   "source": [
    "#import the necessary libraries\n",
    "import pandas as pd\n",
    "import numpy as np\n",
    "import matplotlib.pyplot as plt\n",
    "import seaborn as sns\n",
    "plt.rcParams['figure.figsize']=14,7\n",
    "import emoji\n",
    "#from Ipython.core.interactiveshell import InteractiveShell\n",
    "#InteractiveShell.ast_node_interactivity=\"all\"\n",
    "pd.set_option('display.max_rows',None)\n",
    "pd.set_option('display.max_columns',None)"
   ]
  },
  {
   "cell_type": "markdown",
   "metadata": {},
   "source": [
    "# Performing some data wrangling "
   ]
  },
  {
   "cell_type": "code",
   "execution_count": 33,
   "metadata": {
    "ExecuteTime": {
     "end_time": "2021-01-02T07:52:02.790653Z",
     "start_time": "2021-01-02T07:52:02.618773Z"
    }
   },
   "outputs": [],
   "source": [
    "#Load in th data\n",
    "missing_values=[\"None\",\"n/a\"]\n",
    "raw_data=pd.read_csv('COGNOSCENTI.txt',delimiter='\\t',header=None,names=['text'],na_values=missing_values)\n",
    "data=pd.read_csv('COGNOSCENTI.txt',delimiter='\\t',header=None,names=['text'],na_values=missing_values)"
   ]
  },
  {
   "cell_type": "code",
   "execution_count": 34,
   "metadata": {
    "ExecuteTime": {
     "end_time": "2021-01-02T07:52:07.322088Z",
     "start_time": "2021-01-02T07:52:07.212707Z"
    }
   },
   "outputs": [
    {
     "data": {
      "text/html": [
       "<div>\n",
       "<style scoped>\n",
       "    .dataframe tbody tr th:only-of-type {\n",
       "        vertical-align: middle;\n",
       "    }\n",
       "\n",
       "    .dataframe tbody tr th {\n",
       "        vertical-align: top;\n",
       "    }\n",
       "\n",
       "    .dataframe thead th {\n",
       "        text-align: right;\n",
       "    }\n",
       "</style>\n",
       "<table border=\"1\" class=\"dataframe\">\n",
       "  <thead>\n",
       "    <tr style=\"text-align: right;\">\n",
       "      <th></th>\n",
       "      <th>text</th>\n",
       "    </tr>\n",
       "  </thead>\n",
       "  <tbody>\n",
       "    <tr>\n",
       "      <th>0</th>\n",
       "      <td>10/18/20, 22:00 - Messages and calls are end-t...</td>\n",
       "    </tr>\n",
       "    <tr>\n",
       "      <th>1</th>\n",
       "      <td>10/18/20, 21:59 - John changed this group's icon</td>\n",
       "    </tr>\n",
       "    <tr>\n",
       "      <th>2</th>\n",
       "      <td>8/25/14, 21:04 - +234 816 742 8335 created gro...</td>\n",
       "    </tr>\n",
       "    <tr>\n",
       "      <th>3</th>\n",
       "      <td>10/18/20, 21:55 - John added you</td>\n",
       "    </tr>\n",
       "    <tr>\n",
       "      <th>4</th>\n",
       "      <td>10/18/20, 21:56 - John changed the subject fro...</td>\n",
       "    </tr>\n",
       "  </tbody>\n",
       "</table>\n",
       "</div>"
      ],
      "text/plain": [
       "                                                text\n",
       "0  10/18/20, 22:00 - Messages and calls are end-t...\n",
       "1   10/18/20, 21:59 - John changed this group's icon\n",
       "2  8/25/14, 21:04 - +234 816 742 8335 created gro...\n",
       "3                   10/18/20, 21:55 - John added you\n",
       "4  10/18/20, 21:56 - John changed the subject fro..."
      ]
     },
     "execution_count": 34,
     "metadata": {},
     "output_type": "execute_result"
    }
   ],
   "source": [
    "#Check the first few rows of the data\n",
    "data.head()"
   ]
  },
  {
   "cell_type": "code",
   "execution_count": 35,
   "metadata": {
    "ExecuteTime": {
     "end_time": "2021-01-02T07:52:11.775392Z",
     "start_time": "2021-01-02T07:52:11.666011Z"
    }
   },
   "outputs": [],
   "source": [
    "#Extract datetime\n",
    "data[['datetime','text_2']]=data[\"text\"].str.split(\"-\",1,expand=True)"
   ]
  },
  {
   "cell_type": "code",
   "execution_count": 36,
   "metadata": {
    "ExecuteTime": {
     "end_time": "2021-01-02T07:52:16.759972Z",
     "start_time": "2021-01-02T07:52:16.634964Z"
    }
   },
   "outputs": [
    {
     "data": {
      "text/html": [
       "<div>\n",
       "<style scoped>\n",
       "    .dataframe tbody tr th:only-of-type {\n",
       "        vertical-align: middle;\n",
       "    }\n",
       "\n",
       "    .dataframe tbody tr th {\n",
       "        vertical-align: top;\n",
       "    }\n",
       "\n",
       "    .dataframe thead th {\n",
       "        text-align: right;\n",
       "    }\n",
       "</style>\n",
       "<table border=\"1\" class=\"dataframe\">\n",
       "  <thead>\n",
       "    <tr style=\"text-align: right;\">\n",
       "      <th></th>\n",
       "      <th>text</th>\n",
       "      <th>datetime</th>\n",
       "      <th>text_2</th>\n",
       "    </tr>\n",
       "  </thead>\n",
       "  <tbody>\n",
       "    <tr>\n",
       "      <th>0</th>\n",
       "      <td>10/18/20, 22:00 - Messages and calls are end-t...</td>\n",
       "      <td>10/18/20, 22:00</td>\n",
       "      <td>Messages and calls are end-to-end encrypted. ...</td>\n",
       "    </tr>\n",
       "    <tr>\n",
       "      <th>1</th>\n",
       "      <td>10/18/20, 21:59 - John changed this group's icon</td>\n",
       "      <td>10/18/20, 21:59</td>\n",
       "      <td>John changed this group's icon</td>\n",
       "    </tr>\n",
       "    <tr>\n",
       "      <th>2</th>\n",
       "      <td>8/25/14, 21:04 - +234 816 742 8335 created gro...</td>\n",
       "      <td>8/25/14, 21:04</td>\n",
       "      <td>+234 816 742 8335 created group \"HBD fikemi b...</td>\n",
       "    </tr>\n",
       "    <tr>\n",
       "      <th>3</th>\n",
       "      <td>10/18/20, 21:55 - John added you</td>\n",
       "      <td>10/18/20, 21:55</td>\n",
       "      <td>John added you</td>\n",
       "    </tr>\n",
       "    <tr>\n",
       "      <th>4</th>\n",
       "      <td>10/18/20, 21:56 - John changed the subject fro...</td>\n",
       "      <td>10/18/20, 21:56</td>\n",
       "      <td>John changed the subject from \"HBD fikemi bab...</td>\n",
       "    </tr>\n",
       "  </tbody>\n",
       "</table>\n",
       "</div>"
      ],
      "text/plain": [
       "                                                text          datetime  \\\n",
       "0  10/18/20, 22:00 - Messages and calls are end-t...  10/18/20, 22:00    \n",
       "1   10/18/20, 21:59 - John changed this group's icon  10/18/20, 21:59    \n",
       "2  8/25/14, 21:04 - +234 816 742 8335 created gro...   8/25/14, 21:04    \n",
       "3                   10/18/20, 21:55 - John added you  10/18/20, 21:55    \n",
       "4  10/18/20, 21:56 - John changed the subject fro...  10/18/20, 21:56    \n",
       "\n",
       "                                              text_2  \n",
       "0   Messages and calls are end-to-end encrypted. ...  \n",
       "1                     John changed this group's icon  \n",
       "2   +234 816 742 8335 created group \"HBD fikemi b...  \n",
       "3                                     John added you  \n",
       "4   John changed the subject from \"HBD fikemi bab...  "
      ]
     },
     "execution_count": 36,
     "metadata": {},
     "output_type": "execute_result"
    }
   ],
   "source": [
    "#Check the first few rows after extracting the datetime\n",
    "data.head()"
   ]
  },
  {
   "cell_type": "code",
   "execution_count": 37,
   "metadata": {
    "ExecuteTime": {
     "end_time": "2021-01-02T07:52:23.964868Z",
     "start_time": "2021-01-02T07:52:23.902366Z"
    }
   },
   "outputs": [
    {
     "data": {
      "text/plain": [
       "(1360, 3)"
      ]
     },
     "execution_count": 37,
     "metadata": {},
     "output_type": "execute_result"
    }
   ],
   "source": [
    "#Examing the shape of the dataset\n",
    "data.shape"
   ]
  },
  {
   "cell_type": "code",
   "execution_count": 38,
   "metadata": {
    "ExecuteTime": {
     "end_time": "2021-01-02T07:52:28.387112Z",
     "start_time": "2021-01-02T07:52:28.246288Z"
    }
   },
   "outputs": [],
   "source": [
    "#Drop the datetime_str column as we don't need it anymore\n",
    "#data=data.drop(columns=['datetime_str'])\n",
    "#Extract sender and message\n",
    "data[['sender','text_message']]=data[\"text_2\"].str.split(':',1,expand=True)\n",
    "\n"
   ]
  },
  {
   "cell_type": "code",
   "execution_count": 39,
   "metadata": {
    "ExecuteTime": {
     "end_time": "2021-01-02T07:52:34.684049Z",
     "start_time": "2021-01-02T07:52:34.527790Z"
    }
   },
   "outputs": [
    {
     "data": {
      "text/html": [
       "<div>\n",
       "<style scoped>\n",
       "    .dataframe tbody tr th:only-of-type {\n",
       "        vertical-align: middle;\n",
       "    }\n",
       "\n",
       "    .dataframe tbody tr th {\n",
       "        vertical-align: top;\n",
       "    }\n",
       "\n",
       "    .dataframe thead th {\n",
       "        text-align: right;\n",
       "    }\n",
       "</style>\n",
       "<table border=\"1\" class=\"dataframe\">\n",
       "  <thead>\n",
       "    <tr style=\"text-align: right;\">\n",
       "      <th></th>\n",
       "      <th>datetime</th>\n",
       "      <th>sender</th>\n",
       "      <th>text_message</th>\n",
       "    </tr>\n",
       "  </thead>\n",
       "  <tbody>\n",
       "    <tr>\n",
       "      <th>0</th>\n",
       "      <td>10/18/20, 22:00</td>\n",
       "      <td>Messages and calls are end-to-end encrypted. ...</td>\n",
       "      <td>None</td>\n",
       "    </tr>\n",
       "    <tr>\n",
       "      <th>1</th>\n",
       "      <td>10/18/20, 21:59</td>\n",
       "      <td>John changed this group's icon</td>\n",
       "      <td>None</td>\n",
       "    </tr>\n",
       "    <tr>\n",
       "      <th>2</th>\n",
       "      <td>8/25/14, 21:04</td>\n",
       "      <td>+234 816 742 8335 created group \"HBD fikemi b...</td>\n",
       "      <td>None</td>\n",
       "    </tr>\n",
       "    <tr>\n",
       "      <th>3</th>\n",
       "      <td>10/18/20, 21:55</td>\n",
       "      <td>John added you</td>\n",
       "      <td>None</td>\n",
       "    </tr>\n",
       "    <tr>\n",
       "      <th>4</th>\n",
       "      <td>10/18/20, 21:56</td>\n",
       "      <td>John changed the subject from \"HBD fikemi bab...</td>\n",
       "      <td>None</td>\n",
       "    </tr>\n",
       "  </tbody>\n",
       "</table>\n",
       "</div>"
      ],
      "text/plain": [
       "           datetime                                             sender  \\\n",
       "0  10/18/20, 22:00    Messages and calls are end-to-end encrypted. ...   \n",
       "1  10/18/20, 21:59                      John changed this group's icon   \n",
       "2   8/25/14, 21:04    +234 816 742 8335 created group \"HBD fikemi b...   \n",
       "3  10/18/20, 21:55                                      John added you   \n",
       "4  10/18/20, 21:56    John changed the subject from \"HBD fikemi bab...   \n",
       "\n",
       "  text_message  \n",
       "0         None  \n",
       "1         None  \n",
       "2         None  \n",
       "3         None  \n",
       "4         None  "
      ]
     },
     "execution_count": 39,
     "metadata": {},
     "output_type": "execute_result"
    }
   ],
   "source": [
    "#Drop the text and text_2 columns as we don't need them anymore\n",
    "data=data.drop(columns=[\"text\",\"text_2\"])\n",
    "data.head()"
   ]
  },
  {
   "cell_type": "markdown",
   "metadata": {},
   "source": [
    "## Most poular message time using heatmap"
   ]
  },
  {
   "cell_type": "code",
   "execution_count": 10,
   "metadata": {
    "ExecuteTime": {
     "end_time": "2021-01-02T07:32:01.696145Z",
     "start_time": "2021-01-02T07:31:57.711756Z"
    }
   },
   "outputs": [],
   "source": [
    "\n",
    "#Extract the day of week and make it a column in the Data frame\n",
    "data[\"datetime\"]=pd.to_datetime(data[\"datetime\"],errors='coerce')\n",
    "data['day_of_week']=data[\"datetime\"].dt.dayofweek+1"
   ]
  },
  {
   "cell_type": "code",
   "execution_count": 11,
   "metadata": {
    "ExecuteTime": {
     "end_time": "2021-01-02T07:32:40.101359Z",
     "start_time": "2021-01-02T07:32:40.023242Z"
    }
   },
   "outputs": [],
   "source": [
    "#Ensure the datetime is indeed in date format\n",
    "data[\"datetime\"]=pd.to_datetime(data[\"datetime\"],errors='coerce')"
   ]
  },
  {
   "cell_type": "code",
   "execution_count": 12,
   "metadata": {
    "ExecuteTime": {
     "end_time": "2021-01-02T07:33:36.160679Z",
     "start_time": "2021-01-02T07:33:36.020053Z"
    }
   },
   "outputs": [],
   "source": [
    "#Extract the hour and make it a column in the Data Frame\n",
    "data['hour_of_day']=data['datetime'].dt.hour"
   ]
  },
  {
   "cell_type": "code",
   "execution_count": 13,
   "metadata": {
    "ExecuteTime": {
     "end_time": "2021-01-02T07:33:54.262484Z",
     "start_time": "2021-01-02T07:33:54.090605Z"
    }
   },
   "outputs": [],
   "source": [
    "#Create a new object of the data counts\n",
    "heatmap_data=data.groupby(['day_of_week','hour_of_day']).size()\n",
    "heatmap_data=heatmap_data.unstack()"
   ]
  },
  {
   "cell_type": "code",
   "execution_count": 26,
   "metadata": {
    "ExecuteTime": {
     "end_time": "2021-01-02T07:48:22.250713Z",
     "start_time": "2021-01-02T07:48:17.469275Z"
    }
   },
   "outputs": [
    {
     "data": {
      "image/png": "[encoded data removed]",
      "text/plain": [
       "<Figure size 1008x504 with 2 Axes>"
      ]
     },
     "metadata": {
      "needs_background": "light"
     },
     "output_type": "display_data"
    }
   ],
   "source": [
    "#Create the heatmap\n",
    "plt.pcolor(heatmap_data,cmap='Reds')\n",
    "plt.xlabel(\"Hour of Day\",fontsize='12',fontweight='bold')\n",
    "plt.ylabel(\"Day of Week\",fontsize='12',fontweight='bold')\n",
    "plt.colorbar()\n",
    "plt.show()"
   ]
  },
  {
   "cell_type": "code",
   "execution_count": 17,
   "metadata": {
    "ExecuteTime": {
     "end_time": "2021-01-02T07:36:35.735973Z",
     "start_time": "2021-01-02T07:36:35.298456Z"
    }
   },
   "outputs": [
    {
     "data": {
      "text/html": [
       "<div>\n",
       "<style scoped>\n",
       "    .dataframe tbody tr th:only-of-type {\n",
       "        vertical-align: middle;\n",
       "    }\n",
       "\n",
       "    .dataframe tbody tr th {\n",
       "        vertical-align: top;\n",
       "    }\n",
       "\n",
       "    .dataframe thead th {\n",
       "        text-align: right;\n",
       "    }\n",
       "</style>\n",
       "<table border=\"1\" class=\"dataframe\">\n",
       "  <thead>\n",
       "    <tr style=\"text-align: right;\">\n",
       "      <th>hour_of_day</th>\n",
       "      <th>0.0</th>\n",
       "      <th>1.0</th>\n",
       "      <th>2.0</th>\n",
       "      <th>3.0</th>\n",
       "      <th>5.0</th>\n",
       "      <th>6.0</th>\n",
       "      <th>7.0</th>\n",
       "      <th>8.0</th>\n",
       "      <th>9.0</th>\n",
       "      <th>10.0</th>\n",
       "      <th>11.0</th>\n",
       "      <th>12.0</th>\n",
       "      <th>13.0</th>\n",
       "      <th>14.0</th>\n",
       "      <th>15.0</th>\n",
       "      <th>16.0</th>\n",
       "      <th>17.0</th>\n",
       "      <th>18.0</th>\n",
       "      <th>19.0</th>\n",
       "      <th>20.0</th>\n",
       "      <th>21.0</th>\n",
       "      <th>22.0</th>\n",
       "      <th>23.0</th>\n",
       "    </tr>\n",
       "    <tr>\n",
       "      <th>day_of_week</th>\n",
       "      <th></th>\n",
       "      <th></th>\n",
       "      <th></th>\n",
       "      <th></th>\n",
       "      <th></th>\n",
       "      <th></th>\n",
       "      <th></th>\n",
       "      <th></th>\n",
       "      <th></th>\n",
       "      <th></th>\n",
       "      <th></th>\n",
       "      <th></th>\n",
       "      <th></th>\n",
       "      <th></th>\n",
       "      <th></th>\n",
       "      <th></th>\n",
       "      <th></th>\n",
       "      <th></th>\n",
       "      <th></th>\n",
       "      <th></th>\n",
       "      <th></th>\n",
       "      <th></th>\n",
       "      <th></th>\n",
       "    </tr>\n",
       "  </thead>\n",
       "  <tbody>\n",
       "    <tr>\n",
       "      <th>1.0</th>\n",
       "      <td>6.0</td>\n",
       "      <td>NaN</td>\n",
       "      <td>NaN</td>\n",
       "      <td>NaN</td>\n",
       "      <td>1.0</td>\n",
       "      <td>2.0</td>\n",
       "      <td>NaN</td>\n",
       "      <td>2.0</td>\n",
       "      <td>12.0</td>\n",
       "      <td>2.0</td>\n",
       "      <td>17.0</td>\n",
       "      <td>3.0</td>\n",
       "      <td>1.0</td>\n",
       "      <td>2.0</td>\n",
       "      <td>3.0</td>\n",
       "      <td>8.0</td>\n",
       "      <td>11.0</td>\n",
       "      <td>13.0</td>\n",
       "      <td>14.0</td>\n",
       "      <td>8.0</td>\n",
       "      <td>6.0</td>\n",
       "      <td>15.0</td>\n",
       "      <td>10.0</td>\n",
       "    </tr>\n",
       "    <tr>\n",
       "      <th>2.0</th>\n",
       "      <td>NaN</td>\n",
       "      <td>NaN</td>\n",
       "      <td>NaN</td>\n",
       "      <td>NaN</td>\n",
       "      <td>1.0</td>\n",
       "      <td>1.0</td>\n",
       "      <td>4.0</td>\n",
       "      <td>3.0</td>\n",
       "      <td>4.0</td>\n",
       "      <td>10.0</td>\n",
       "      <td>1.0</td>\n",
       "      <td>1.0</td>\n",
       "      <td>NaN</td>\n",
       "      <td>NaN</td>\n",
       "      <td>NaN</td>\n",
       "      <td>1.0</td>\n",
       "      <td>NaN</td>\n",
       "      <td>2.0</td>\n",
       "      <td>NaN</td>\n",
       "      <td>NaN</td>\n",
       "      <td>2.0</td>\n",
       "      <td>3.0</td>\n",
       "      <td>NaN</td>\n",
       "    </tr>\n",
       "    <tr>\n",
       "      <th>3.0</th>\n",
       "      <td>NaN</td>\n",
       "      <td>NaN</td>\n",
       "      <td>NaN</td>\n",
       "      <td>NaN</td>\n",
       "      <td>NaN</td>\n",
       "      <td>NaN</td>\n",
       "      <td>2.0</td>\n",
       "      <td>NaN</td>\n",
       "      <td>NaN</td>\n",
       "      <td>2.0</td>\n",
       "      <td>NaN</td>\n",
       "      <td>NaN</td>\n",
       "      <td>5.0</td>\n",
       "      <td>NaN</td>\n",
       "      <td>3.0</td>\n",
       "      <td>57.0</td>\n",
       "      <td>17.0</td>\n",
       "      <td>13.0</td>\n",
       "      <td>9.0</td>\n",
       "      <td>NaN</td>\n",
       "      <td>5.0</td>\n",
       "      <td>NaN</td>\n",
       "      <td>1.0</td>\n",
       "    </tr>\n",
       "    <tr>\n",
       "      <th>4.0</th>\n",
       "      <td>1.0</td>\n",
       "      <td>NaN</td>\n",
       "      <td>NaN</td>\n",
       "      <td>NaN</td>\n",
       "      <td>1.0</td>\n",
       "      <td>1.0</td>\n",
       "      <td>1.0</td>\n",
       "      <td>1.0</td>\n",
       "      <td>NaN</td>\n",
       "      <td>NaN</td>\n",
       "      <td>NaN</td>\n",
       "      <td>2.0</td>\n",
       "      <td>NaN</td>\n",
       "      <td>2.0</td>\n",
       "      <td>2.0</td>\n",
       "      <td>3.0</td>\n",
       "      <td>1.0</td>\n",
       "      <td>1.0</td>\n",
       "      <td>NaN</td>\n",
       "      <td>3.0</td>\n",
       "      <td>2.0</td>\n",
       "      <td>1.0</td>\n",
       "      <td>NaN</td>\n",
       "    </tr>\n",
       "    <tr>\n",
       "      <th>5.0</th>\n",
       "      <td>1.0</td>\n",
       "      <td>6.0</td>\n",
       "      <td>1.0</td>\n",
       "      <td>NaN</td>\n",
       "      <td>1.0</td>\n",
       "      <td>NaN</td>\n",
       "      <td>1.0</td>\n",
       "      <td>NaN</td>\n",
       "      <td>5.0</td>\n",
       "      <td>11.0</td>\n",
       "      <td>2.0</td>\n",
       "      <td>5.0</td>\n",
       "      <td>3.0</td>\n",
       "      <td>13.0</td>\n",
       "      <td>15.0</td>\n",
       "      <td>19.0</td>\n",
       "      <td>11.0</td>\n",
       "      <td>38.0</td>\n",
       "      <td>39.0</td>\n",
       "      <td>16.0</td>\n",
       "      <td>10.0</td>\n",
       "      <td>19.0</td>\n",
       "      <td>2.0</td>\n",
       "    </tr>\n",
       "    <tr>\n",
       "      <th>6.0</th>\n",
       "      <td>4.0</td>\n",
       "      <td>NaN</td>\n",
       "      <td>2.0</td>\n",
       "      <td>1.0</td>\n",
       "      <td>1.0</td>\n",
       "      <td>8.0</td>\n",
       "      <td>13.0</td>\n",
       "      <td>23.0</td>\n",
       "      <td>7.0</td>\n",
       "      <td>17.0</td>\n",
       "      <td>9.0</td>\n",
       "      <td>1.0</td>\n",
       "      <td>2.0</td>\n",
       "      <td>6.0</td>\n",
       "      <td>10.0</td>\n",
       "      <td>10.0</td>\n",
       "      <td>8.0</td>\n",
       "      <td>5.0</td>\n",
       "      <td>2.0</td>\n",
       "      <td>69.0</td>\n",
       "      <td>27.0</td>\n",
       "      <td>15.0</td>\n",
       "      <td>4.0</td>\n",
       "    </tr>\n",
       "    <tr>\n",
       "      <th>7.0</th>\n",
       "      <td>3.0</td>\n",
       "      <td>NaN</td>\n",
       "      <td>NaN</td>\n",
       "      <td>1.0</td>\n",
       "      <td>2.0</td>\n",
       "      <td>NaN</td>\n",
       "      <td>1.0</td>\n",
       "      <td>NaN</td>\n",
       "      <td>12.0</td>\n",
       "      <td>5.0</td>\n",
       "      <td>10.0</td>\n",
       "      <td>3.0</td>\n",
       "      <td>4.0</td>\n",
       "      <td>1.0</td>\n",
       "      <td>4.0</td>\n",
       "      <td>16.0</td>\n",
       "      <td>NaN</td>\n",
       "      <td>7.0</td>\n",
       "      <td>4.0</td>\n",
       "      <td>16.0</td>\n",
       "      <td>18.0</td>\n",
       "      <td>17.0</td>\n",
       "      <td>3.0</td>\n",
       "    </tr>\n",
       "  </tbody>\n",
       "</table>\n",
       "</div>"
      ],
      "text/plain": [
       "hour_of_day  0.0   1.0   2.0   3.0   5.0   6.0   7.0   8.0   9.0   10.0  11.0  \\\n",
       "day_of_week                                                                     \n",
       "1.0           6.0   NaN   NaN   NaN   1.0   2.0   NaN   2.0  12.0   2.0  17.0   \n",
       "2.0           NaN   NaN   NaN   NaN   1.0   1.0   4.0   3.0   4.0  10.0   1.0   \n",
       "3.0           NaN   NaN   NaN   NaN   NaN   NaN   2.0   NaN   NaN   2.0   NaN   \n",
       "4.0           1.0   NaN   NaN   NaN   1.0   1.0   1.0   1.0   NaN   NaN   NaN   \n",
       "5.0           1.0   6.0   1.0   NaN   1.0   NaN   1.0   NaN   5.0  11.0   2.0   \n",
       "6.0           4.0   NaN   2.0   1.0   1.0   8.0  13.0  23.0   7.0  17.0   9.0   \n",
       "7.0           3.0   NaN   NaN   1.0   2.0   NaN   1.0   NaN  12.0   5.0  10.0   \n",
       "\n",
       "hour_of_day  12.0  13.0  14.0  15.0  16.0  17.0  18.0  19.0  20.0  21.0  22.0  \\\n",
       "day_of_week                                                                     \n",
       "1.0           3.0   1.0   2.0   3.0   8.0  11.0  13.0  14.0   8.0   6.0  15.0   \n",
       "2.0           1.0   NaN   NaN   NaN   1.0   NaN   2.0   NaN   NaN   2.0   3.0   \n",
       "3.0           NaN   5.0   NaN   3.0  57.0  17.0  13.0   9.0   NaN   5.0   NaN   \n",
       "4.0           2.0   NaN   2.0   2.0   3.0   1.0   1.0   NaN   3.0   2.0   1.0   \n",
       "5.0           5.0   3.0  13.0  15.0  19.0  11.0  38.0  39.0  16.0  10.0  19.0   \n",
       "6.0           1.0   2.0   6.0  10.0  10.0   8.0   5.0   2.0  69.0  27.0  15.0   \n",
       "7.0           3.0   4.0   1.0   4.0  16.0   NaN   7.0   4.0  16.0  18.0  17.0   \n",
       "\n",
       "hour_of_day  23.0  \n",
       "day_of_week        \n",
       "1.0          10.0  \n",
       "2.0           NaN  \n",
       "3.0           1.0  \n",
       "4.0           NaN  \n",
       "5.0           2.0  \n",
       "6.0           4.0  \n",
       "7.0           3.0  "
      ]
     },
     "execution_count": 17,
     "metadata": {},
     "output_type": "execute_result"
    }
   ],
   "source": [
    "#Checking the heatmap object created\n",
    "heatmap_data"
   ]
  },
  {
   "cell_type": "markdown",
   "metadata": {},
   "source": [
    "## Messages by Top 10 Senders"
   ]
  },
  {
   "cell_type": "code",
   "execution_count": 18,
   "metadata": {
    "ExecuteTime": {
     "end_time": "2021-01-02T07:37:17.392615Z",
     "start_time": "2021-01-02T07:37:17.314490Z"
    }
   },
   "outputs": [],
   "source": [
    "#Create sender count as a series\n",
    "sender_count_series=data.groupby(['sender']).size().sort_values(ascending=False)[:10]"
   ]
  },
  {
   "cell_type": "code",
   "execution_count": 19,
   "metadata": {
    "ExecuteTime": {
     "end_time": "2021-01-02T07:37:44.629206Z",
     "start_time": "2021-01-02T07:37:44.597957Z"
    }
   },
   "outputs": [],
   "source": [
    "#Creat sender count as a dataframe\n",
    "sender_count_df=pd.DataFrame(sender_count_series)"
   ]
  },
  {
   "cell_type": "code",
   "execution_count": 20,
   "metadata": {
    "ExecuteTime": {
     "end_time": "2021-01-02T07:38:02.757414Z",
     "start_time": "2021-01-02T07:38:02.679289Z"
    }
   },
   "outputs": [],
   "source": [
    "#Reset index in order to rename column properly\n",
    "sender_count_df=sender_count_df.reset_index()\n"
   ]
  },
  {
   "cell_type": "code",
   "execution_count": 21,
   "metadata": {
    "ExecuteTime": {
     "end_time": "2021-01-02T07:38:21.867915Z",
     "start_time": "2021-01-02T07:38:21.836662Z"
    }
   },
   "outputs": [],
   "source": [
    "#Rename columns properly\n",
    "sender_count_df.columns=['sender','count']"
   ]
  },
  {
   "cell_type": "code",
   "execution_count": 22,
   "metadata": {
    "ExecuteTime": {
     "end_time": "2021-01-02T07:38:36.037106Z",
     "start_time": "2021-01-02T07:38:35.896470Z"
    }
   },
   "outputs": [
    {
     "data": {
      "text/html": [
       "<div>\n",
       "<style scoped>\n",
       "    .dataframe tbody tr th:only-of-type {\n",
       "        vertical-align: middle;\n",
       "    }\n",
       "\n",
       "    .dataframe tbody tr th {\n",
       "        vertical-align: top;\n",
       "    }\n",
       "\n",
       "    .dataframe thead th {\n",
       "        text-align: right;\n",
       "    }\n",
       "</style>\n",
       "<table border=\"1\" class=\"dataframe\">\n",
       "  <thead>\n",
       "    <tr style=\"text-align: right;\">\n",
       "      <th></th>\n",
       "      <th>sender</th>\n",
       "      <th>count</th>\n",
       "    </tr>\n",
       "  </thead>\n",
       "  <tbody>\n",
       "    <tr>\n",
       "      <th>0</th>\n",
       "      <td>Highcomm</td>\n",
       "      <td>45</td>\n",
       "    </tr>\n",
       "    <tr>\n",
       "      <th>1</th>\n",
       "      <td>+234 706 613 2074</td>\n",
       "      <td>36</td>\n",
       "    </tr>\n",
       "    <tr>\n",
       "      <th>2</th>\n",
       "      <td>+234 810 004 3747</td>\n",
       "      <td>32</td>\n",
       "    </tr>\n",
       "    <tr>\n",
       "      <th>3</th>\n",
       "      <td>+234 816 512 0053</td>\n",
       "      <td>22</td>\n",
       "    </tr>\n",
       "    <tr>\n",
       "      <th>4</th>\n",
       "      <td>Oye</td>\n",
       "      <td>21</td>\n",
       "    </tr>\n",
       "  </tbody>\n",
       "</table>\n",
       "</div>"
      ],
      "text/plain": [
       "               sender  count\n",
       "0            Highcomm     45\n",
       "1   +234 706 613 2074     36\n",
       "2   +234 810 004 3747     32\n",
       "3   +234 816 512 0053     22\n",
       "4                 Oye     21"
      ]
     },
     "execution_count": 22,
     "metadata": {},
     "output_type": "execute_result"
    }
   ],
   "source": [
    "#Check the data\n",
    "sender_count_df.head()"
   ]
  },
  {
   "cell_type": "code",
   "execution_count": 24,
   "metadata": {
    "ExecuteTime": {
     "end_time": "2021-01-02T07:40:33.872658Z",
     "start_time": "2021-01-02T07:40:29.950819Z"
    }
   },
   "outputs": [
    {
     "data": {
      "image/png": "[encoded data removed]",
      "text/plain": [
       "<Figure size 1008x504 with 1 Axes>"
      ]
     },
     "metadata": {
      "needs_background": "light"
     },
     "output_type": "display_data"
    }
   ],
   "source": [
    "#Plot bar chart with sender message counts\n",
    "#plt.figure(figsize=(15,5))\n",
    "fontdict={'fontsize':12,'weight':'bold'}\n",
    "\n",
    "\n",
    "fig,ax=plt.subplots(figsize=(14,7))\n",
    "sns.barplot(x='sender',y='count',color='green',data=sender_count_df,ax=ax)\n",
    "ax.set_xlabel('Sender',fontdict=fontdict)\n",
    "ax.set_ylabel('Message Count',fontdict=fontdict)\n",
    "ax.tick_params(labelsize=14,length=0) #Remove the tick line and also increase the font size\n",
    "plt.xticks(rotation=45,ha=\"right\") #Rotate the xlabel\n",
    "#Remove the borders/spines of the chart from the top and the right side\n",
    "ax.spines['right'].set_visible(False)\n",
    "ax.spines['top'].set_visible(False)\n",
    "plt.show();"
   ]
  },
  {
   "cell_type": "code",
   "execution_count": null,
   "metadata": {},
   "outputs": [],
   "source": []
  }
 ],
 "metadata": {
  "hide_input": false,
  "kernelspec": {
   "display_name": "Python 3",
   "language": "python",
   "name": "python3"
  },
  "language_info": {
   "codemirror_mode": {
    "name": "ipython",
    "version": 3
   },
   "file_extension": ".py",
   "mimetype": "text/x-python",
   "name": "python",
   "nbconvert_exporter": "python",
   "pygments_lexer": "ipython3",
   "version": "3.7.6"
  },
  "varInspector": {
   "cols": {
    "lenName": 16,
    "lenType": 16,
    "lenVar": 40
   },
   "kernels_config": {
    "python": {
     "delete_cmd_postfix": "",
     "delete_cmd_prefix": "del ",
     "library": "var_list.py",
     "varRefreshCmd": "print(var_dic_list())"
    },
    "r": {
     "delete_cmd_postfix": ") ",
     "delete_cmd_prefix": "rm(",
     "library": "var_list.r",
     "varRefreshCmd": "cat(var_dic_list()) "
    }
   },
   "types_to_exclude": [
    "module",
    "function",
    "builtin_function_or_method",
    "instance",
    "_Feature"
   ],
   "window_display": false
  }
 },
 "nbformat": 4,
 "nbformat_minor": 4
}
